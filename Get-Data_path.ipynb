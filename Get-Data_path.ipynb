{
 "cells": [
  {
   "cell_type": "code",
   "execution_count": 3,
   "id": "196dc813",
   "metadata": {},
   "outputs": [
    {
     "name": "stdout",
     "output_type": "stream",
     "text": [
      "Data telah disimpan ke ./data_path_1_second.csv\n"
     ]
    }
   ],
   "source": [
    "import os\n",
    "import pandas as pd\n",
    "\n",
    "# Ganti dengan path folder tempat Anda menyimpan dataset GTZAN\n",
    "data_path = \"./dataset\"\n",
    "\n",
    "data = []\n",
    "\n",
    "for labels in os.listdir(data_path):\n",
    "    labels_path = os.path.join(data_path, labels)\n",
    "    if os.path.isdir(labels_path):\n",
    "        for file_name in os.listdir(labels_path):\n",
    "            if file_name.endswith(\".wav\"):\n",
    "                file_path = os.path.join(labels_path, file_name)\n",
    "                data.append([file_path, labels])\n",
    "\n",
    "# Membuat DataFrame menggunakan pandas\n",
    "df = pd.DataFrame(data, columns=[\"File_Path\", \"labels\"])\n",
    "\n",
    "# Menyimpan DataFrame ke file CSV\n",
    "csv_file = './data_path_1_second.csv'  # Ganti dengan path yang sesuai\n",
    "df.to_csv(csv_file, index=False)\n",
    "\n",
    "print(f\"Data telah disimpan ke {csv_file}\")\n"
   ]
  },
  {
   "cell_type": "code",
   "execution_count": null,
   "id": "cf058507",
   "metadata": {},
   "outputs": [],
   "source": []
  }
 ],
 "metadata": {
  "kernelspec": {
   "display_name": "Python 3 (ipykernel)",
   "language": "python",
   "name": "python3"
  },
  "language_info": {
   "codemirror_mode": {
    "name": "ipython",
    "version": 3
   },
   "file_extension": ".py",
   "mimetype": "text/x-python",
   "name": "python",
   "nbconvert_exporter": "python",
   "pygments_lexer": "ipython3",
   "version": "3.9.7"
  }
 },
 "nbformat": 4,
 "nbformat_minor": 5
}
